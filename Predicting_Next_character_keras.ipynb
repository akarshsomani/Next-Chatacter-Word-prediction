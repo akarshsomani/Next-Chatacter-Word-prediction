{
 "cells": [
  {
   "cell_type": "code",
   "execution_count": 2,
   "metadata": {
    "colab": {
     "base_uri": "https://localhost:8080/",
     "height": 35
    },
    "colab_type": "code",
    "id": "FO-n1qK2UFji",
    "outputId": "40fe5114-9603-45a6-fc5e-17fac5aa8595"
   },
   "outputs": [
    {
     "name": "stderr",
     "output_type": "stream",
     "text": [
      "C:\\Users\\Akarsh Somani\\Anaconda3\\lib\\site-packages\\h5py\\__init__.py:36: FutureWarning: Conversion of the second argument of issubdtype from `float` to `np.floating` is deprecated. In future, it will be treated as `np.float64 == np.dtype(float).type`.\n",
      "  from ._conv import register_converters as _register_converters\n",
      "Using TensorFlow backend.\n"
     ]
    }
   ],
   "source": [
    "import numpy as np\n",
    "import pandas as pd\n",
    "import matplotlib.pyplot as plt\n",
    "%matplotlib inline\n",
    "from keras.utils.data_utils import get_file\n",
    "from keras.datasets import imdb\n",
    "from keras.preprocessing import sequence\n",
    "from keras.models import Sequential\n",
    "from keras.layers import Dense, Dropout, Activation, Flatten\n",
    "from keras.layers import Input, Embedding, Reshape, merge, LSTM, Bidirectional\n",
    "from keras.layers import SimpleRNN, TimeDistributed\n",
    "from keras.layers.normalization import BatchNormalization\n",
    "from keras.utils import np_utils\n",
    "from keras.layers import Conv1D, MaxPooling1D, ZeroPadding1D\n",
    "from keras.utils import np_utils\n",
    "from keras.optimizers import Adam\n",
    "import pickle\n",
    "import re\n",
    "from numpy.random import random, permutation, randn, normal, uniform, choice"
   ]
  },
  {
   "cell_type": "code",
   "execution_count": 3,
   "metadata": {
    "colab": {
     "base_uri": "https://localhost:8080/",
     "height": 35
    },
    "colab_type": "code",
    "id": "VfySmVygUFjy",
    "outputId": "a5ec5339-2172-4c86-cd45-c4d92e990d56"
   },
   "outputs": [
    {
     "name": "stdout",
     "output_type": "stream",
     "text": [
      "600901\n"
     ]
    }
   ],
   "source": [
    "path = get_file('nietzsche.txt', origin=\"https://s3.amazonaws.com/text-datasets/nietzsche.txt\")\n",
    "text = open(path).read()\n",
    "print(len(text))"
   ]
  },
  {
   "cell_type": "code",
   "execution_count": 4,
   "metadata": {
    "colab": {
     "base_uri": "https://localhost:8080/",
     "height": 55
    },
    "colab_type": "code",
    "id": "Y5sCe8p28TtU",
    "outputId": "d813887f-7229-4b57-ac8c-d41b1687f0aa"
   },
   "outputs": [
    {
     "data": {
      "text/plain": [
       "'PREFACE\\n\\n\\nSUPPOSING that Truth is a woman--what then? Is there not ground\\nfor suspecting that all philosophers, in so far as they have been\\ndogmatists, have failed to understand women--that the terrible\\nseriousness and clumsy importunity with which they have usually paid\\ntheir addresses to Truth, have been unskilled and unseemly methods for\\nwinning a woman? Certainly she has never allowed herself to be won; and\\nat present every kind of dogma stands with sad and discouraged mien--IF,\\nindeed, it stands at all! For there are scoffers who maintain that it\\nhas fallen, that all dogma lies on the ground--nay more, that it is at\\nits last gasp. But to speak seriously, there are good grounds for hoping\\nthat all dogmatizing in philosophy, whatever solemn, whatever conclusive\\nand decided airs it has assumed, may have been only a noble puerilism\\nand tyronism; and probably the time is at hand when it will be once\\nand again understood WHAT has actually sufficed for the basis of such\\nimposing and abso'"
      ]
     },
     "execution_count": 4,
     "metadata": {},
     "output_type": "execute_result"
    }
   ],
   "source": [
    "text[:1000]"
   ]
  },
  {
   "cell_type": "markdown",
   "metadata": {
    "colab_type": "text",
    "id": "5eOagQb0UFj7"
   },
   "source": [
    "Creating a vocabulary of unique characters"
   ]
  },
  {
   "cell_type": "code",
   "execution_count": 5,
   "metadata": {
    "colab": {
     "base_uri": "https://localhost:8080/",
     "height": 35
    },
    "colab_type": "code",
    "id": "Sy-M8D69UFj9",
    "outputId": "91a59f6c-2e3f-4e15-b533-761597a2e3e7",
    "scrolled": false
   },
   "outputs": [
    {
     "name": "stdout",
     "output_type": "stream",
     "text": [
      "86\n"
     ]
    }
   ],
   "source": [
    "chars = sorted(list(set(text)))\n",
    "print(len(chars)+1)"
   ]
  },
  {
   "cell_type": "code",
   "execution_count": 6,
   "metadata": {},
   "outputs": [
    {
     "data": {
      "text/plain": [
       "['\\n',\n",
       " ' ',\n",
       " '!',\n",
       " '\"',\n",
       " \"'\",\n",
       " '(',\n",
       " ')',\n",
       " ',',\n",
       " '-',\n",
       " '.',\n",
       " '0',\n",
       " '1',\n",
       " '2',\n",
       " '3',\n",
       " '4',\n",
       " '5',\n",
       " '6',\n",
       " '7',\n",
       " '8',\n",
       " '9',\n",
       " ':',\n",
       " ';',\n",
       " '=',\n",
       " '?',\n",
       " 'A',\n",
       " 'B',\n",
       " 'C',\n",
       " 'D',\n",
       " 'E',\n",
       " 'F',\n",
       " 'G',\n",
       " 'H',\n",
       " 'I',\n",
       " 'J',\n",
       " 'K',\n",
       " 'L',\n",
       " 'M',\n",
       " 'N',\n",
       " 'O',\n",
       " 'P',\n",
       " 'Q',\n",
       " 'R',\n",
       " 'S',\n",
       " 'T',\n",
       " 'U',\n",
       " 'V',\n",
       " 'W',\n",
       " 'X',\n",
       " 'Y',\n",
       " 'Z',\n",
       " '[',\n",
       " ']',\n",
       " '_',\n",
       " 'a',\n",
       " 'b',\n",
       " 'c',\n",
       " 'd',\n",
       " 'e',\n",
       " 'f',\n",
       " 'g',\n",
       " 'h',\n",
       " 'i',\n",
       " 'j',\n",
       " 'k',\n",
       " 'l',\n",
       " 'm',\n",
       " 'n',\n",
       " 'o',\n",
       " 'p',\n",
       " 'q',\n",
       " 'r',\n",
       " 's',\n",
       " 't',\n",
       " 'u',\n",
       " 'v',\n",
       " 'w',\n",
       " 'x',\n",
       " 'y',\n",
       " 'z',\n",
       " '¤',\n",
       " '¦',\n",
       " '©',\n",
       " '«',\n",
       " 'Ã',\n",
       " '†']"
      ]
     },
     "execution_count": 6,
     "metadata": {},
     "output_type": "execute_result"
    }
   ],
   "source": [
    "chars"
   ]
  },
  {
   "cell_type": "markdown",
   "metadata": {
    "colab_type": "text",
    "id": "wA3o1ZHXUFkE"
   },
   "source": [
    "Inserting 0 as it wasn't in the original text"
   ]
  },
  {
   "cell_type": "code",
   "execution_count": 7,
   "metadata": {
    "colab": {},
    "colab_type": "code",
    "id": "1D0-RXX_UFkG"
   },
   "outputs": [],
   "source": [
    "chars.insert(0, '\\0')"
   ]
  },
  {
   "cell_type": "markdown",
   "metadata": {
    "colab_type": "text",
    "id": "CkZkeH9wUFkK"
   },
   "source": [
    "Creating a dictionary, mapping characters to index and index to characters"
   ]
  },
  {
   "cell_type": "code",
   "execution_count": 8,
   "metadata": {
    "colab": {},
    "colab_type": "code",
    "id": "h5AYS4qeUFkM"
   },
   "outputs": [],
   "source": [
    "char_to_index = {v:i for i,v in enumerate(chars)}\n",
    "index_to_char = {i:v for i,v in enumerate(chars)}"
   ]
  },
  {
   "cell_type": "markdown",
   "metadata": {
    "colab_type": "text",
    "id": "MoZoaduVUFkS"
   },
   "source": [
    "Converting the entire nietzsche text into index of characters"
   ]
  },
  {
   "cell_type": "code",
   "execution_count": 9,
   "metadata": {
    "colab": {},
    "colab_type": "code",
    "id": "rHRPscmCUFkV"
   },
   "outputs": [],
   "source": [
    "total_index = [char_to_index[char] for char in text]"
   ]
  },
  {
   "cell_type": "code",
   "execution_count": 10,
   "metadata": {
    "colab": {
     "base_uri": "https://localhost:8080/",
     "height": 35
    },
    "colab_type": "code",
    "id": "iQtjMYDtUFkc",
    "outputId": "0f826249-f993-4fae-942e-9f93e87293e4"
   },
   "outputs": [
    {
     "data": {
      "text/plain": [
       "[40, 42, 29, 30, 25, 27, 29, 1, 1, 1]"
      ]
     },
     "execution_count": 10,
     "metadata": {},
     "output_type": "execute_result"
    }
   ],
   "source": [
    "total_index[:10]"
   ]
  },
  {
   "cell_type": "code",
   "execution_count": 11,
   "metadata": {
    "colab": {
     "base_uri": "https://localhost:8080/",
     "height": 35
    },
    "colab_type": "code",
    "id": "gdsdAoVcUFks",
    "outputId": "64f849e5-bce6-4e6e-89f3-67e5163d6f91"
   },
   "outputs": [
    {
     "data": {
      "text/plain": [
       "'PREFACE\\n\\n\\nSUPPOSING that '"
      ]
     },
     "execution_count": 11,
     "metadata": {},
     "output_type": "execute_result"
    }
   ],
   "source": [
    "''.join(index_to_char[i] for i in total_index[:25])"
   ]
  },
  {
   "cell_type": "markdown",
   "metadata": {
    "colab_type": "text",
    "id": "NsRB6WHxUFk2"
   },
   "source": [
    "As were are predicting the 8th character, we need to create an array of the first 7 characters each acting as an input and the last character as the output.\n",
    "\n",
    "For example, for the text 'this and that'\n",
    "\n",
    "The input will be -> [['t', ' '], ['h', 't'], ['i', 'h'], ['s', 'a'], [' ', 't'], ['a'], ['n']] -> but instead of the characters, there will be the index of the character.\n",
    "\n",
    "And the output will be -> ['d']"
   ]
  },
  {
   "cell_type": "markdown",
   "metadata": {
    "colab": {
     "base_uri": "https://localhost:8080/",
     "height": 253
    },
    "colab_type": "code",
    "id": "QWBEQxyfif-U",
    "outputId": "28645abf-f15b-4a90-9f5d-06a551f88d34"
   },
   "source": [
    "```python\n",
    "tot='happy birthday my dear friend. hope a good year ahead.'\n",
    "print('length of text - ',len(tot))\n",
    "xin = []\n",
    "y=[]\n",
    "pred_num=10\n",
    "count=0\n",
    "for i in range(pred_num):\n",
    "  x=[]\n",
    "  for j in range(0, len(tot)-1-pred_num, pred_num):  \n",
    "    x.append(tot[j+i])\n",
    "  print(x)\n",
    "  xin.append(x)\n",
    "for i in range(0, len(tot)-1-pred_num, pred_num):  \n",
    "  y.append(tot[i+pred_num])\n",
    "print('y=','\\n',y)\n",
    "\n",
    "length of text -  54\n",
    "['h', 'h', 'a', ' ', 'o']\n",
    "['a', 'd', 'r', 'h', 'd']\n",
    "['p', 'a', ' ', 'o', ' ']\n",
    "['p', 'y', 'f', 'p', 'y']\n",
    "['y', ' ', 'r', 'e', 'e']\n",
    "[' ', 'm', 'i', ' ', 'a']\n",
    "['b', 'y', 'e', 'a', 'r']\n",
    "['i', ' ', 'n', ' ', ' ']\n",
    "['r', 'd', 'd', 'g', 'a']\n",
    "['t', 'e', '.', 'o', 'h']\n",
    "y= \n",
    " ['h', 'a', ' ', 'o', 'e']\n",
    "\n",
    "```"
   ]
  },
  {
   "cell_type": "code",
   "execution_count": 12,
   "metadata": {
    "colab": {
     "base_uri": "https://localhost:8080/",
     "height": 528
    },
    "colab_type": "code",
    "id": "vvTt0OXWZ2eK",
    "outputId": "0a60e733-482f-4468-dfcc-7078644d1e2a"
   },
   "outputs": [],
   "source": [
    "pred_num = 25\n",
    "xin = []\n",
    "y=[]\n",
    "for i in range(pred_num):\n",
    "  x=[]\n",
    "  for j in range(0, len(total_index)-1-pred_num, pred_num):  \n",
    "    x.append(total_index[j+i])\n",
    "  xin.append(x)\n",
    "  #print(x)\n",
    "for j in range(0, len(total_index)-1-pred_num, pred_num):  \n",
    "  y.append(total_index[j+pred_num])\n",
    "#print('y=','\\n',y)"
   ]
  },
  {
   "cell_type": "code",
   "execution_count": 16,
   "metadata": {
    "colab": {
     "base_uri": "https://localhost:8080/",
     "height": 35
    },
    "colab_type": "code",
    "id": "1WgCryBHX0W2",
    "outputId": "0a0a6fa5-1e15-4c7c-8306-08aee178e208"
   },
   "outputs": [
    {
     "data": {
      "text/plain": [
       "(25, 24035)"
      ]
     },
     "execution_count": 16,
     "metadata": {},
     "output_type": "execute_result"
    }
   ],
   "source": [
    "len(xin),len(xin[0])"
   ]
  },
  {
   "cell_type": "markdown",
   "metadata": {
    "colab_type": "text",
    "id": "m1vWsyp9YxGE"
   },
   "source": [
    "we can probably use reshape function to do this thing."
   ]
  },
  {
   "cell_type": "code",
   "execution_count": 18,
   "metadata": {
    "colab": {
     "base_uri": "https://localhost:8080/",
     "height": 944
    },
    "colab_type": "code",
    "id": "mYcSCX2MYu-U",
    "outputId": "157a5051-3526-4b49-df4f-e813af4eb891"
   },
   "outputs": [
    {
     "data": {
      "text/plain": [
       "(24035,\n",
       " [44, 58, 68, 62, 73, 8, 67, 65, 2, 61, 62, 75, 58, 2, 54, 73, 2, 57, 58, 73])"
      ]
     },
     "execution_count": 18,
     "metadata": {},
     "output_type": "execute_result"
    }
   ],
   "source": [
    "len(y),y[:20]"
   ]
  },
  {
   "cell_type": "code",
   "execution_count": 19,
   "metadata": {
    "colab": {
     "base_uri": "https://localhost:8080/",
     "height": 471
    },
    "colab_type": "code",
    "id": "N-vUAAViZGE6",
    "outputId": "7615484e-92bc-474b-c444-ef8acba4c52b"
   },
   "outputs": [
    {
     "name": "stdout",
     "output_type": "stream",
     "text": [
      "24035\n",
      "24035\n",
      "24035\n",
      "24035\n",
      "24035\n",
      "24035\n",
      "24035\n",
      "24035\n",
      "24035\n",
      "24035\n",
      "24035\n",
      "24035\n",
      "24035\n",
      "24035\n",
      "24035\n",
      "24035\n",
      "24035\n",
      "24035\n",
      "24035\n",
      "24035\n",
      "24035\n",
      "24035\n",
      "24035\n",
      "24035\n",
      "24035\n"
     ]
    }
   ],
   "source": [
    "for each in xin:\n",
    "  print(len(each))"
   ]
  },
  {
   "cell_type": "markdown",
   "metadata": {
    "colab_type": "text",
    "id": "y0mxZfMbUFk9"
   },
   "source": [
    "We are removing the last 2 characters to keep the length of each array equal"
   ]
  },
  {
   "cell_type": "code",
   "execution_count": 0,
   "metadata": {
    "colab": {},
    "colab_type": "code",
    "id": "ZcfDl-dgUFlA"
   },
   "outputs": [],
   "source": [
    "#X = [np.stack(xin[i][:-2]) for i in range(pred_num)]\n",
    "#Y = np.stack(y[:-2])"
   ]
  },
  {
   "cell_type": "code",
   "execution_count": 0,
   "metadata": {
    "colab": {},
    "colab_type": "code",
    "id": "XydaoSWEUFlI"
   },
   "outputs": [],
   "source": [
    "#X"
   ]
  },
  {
   "cell_type": "code",
   "execution_count": 0,
   "metadata": {
    "colab": {},
    "colab_type": "code",
    "id": "6wJlFNksUFlR"
   },
   "outputs": [],
   "source": [
    "#Y[:8]"
   ]
  },
  {
   "cell_type": "code",
   "execution_count": 0,
   "metadata": {
    "colab": {},
    "colab_type": "code",
    "id": "bAZiQr4LUFlZ"
   },
   "outputs": [],
   "source": [
    "#X[0].shape, Y.shape"
   ]
  },
  {
   "cell_type": "code",
   "execution_count": 20,
   "metadata": {
    "colab": {},
    "colab_type": "code",
    "id": "1DCy3VQkUFlf"
   },
   "outputs": [],
   "source": [
    "hidden_layers = 256\n",
    "vocab_size = 86\n",
    "n_fac = 42"
   ]
  },
  {
   "cell_type": "markdown",
   "metadata": {
    "colab_type": "text",
    "id": "lP6wmkU5UFlr"
   },
   "source": [
    "Creating a simple RNN"
   ]
  },
  {
   "cell_type": "code",
   "execution_count": 21,
   "metadata": {
    "colab": {
     "base_uri": "https://localhost:8080/",
     "height": 92
    },
    "colab_type": "code",
    "id": "p-qZKLbiUFlt",
    "outputId": "c6d9e65e-2d84-413f-e7e4-2451bb5adce4"
   },
   "outputs": [],
   "source": [
    "model = Sequential([\n",
    "        Embedding(vocab_size, n_fac, input_length=pred_num),\n",
    "        SimpleRNN(hidden_layers, activation='relu'),\n",
    "        Dense(vocab_size, activation='softmax')\n",
    "    ])"
   ]
  },
  {
   "cell_type": "code",
   "execution_count": 22,
   "metadata": {
    "colab": {
     "base_uri": "https://localhost:8080/",
     "height": 253
    },
    "colab_type": "code",
    "id": "eaNMD7n0UFlz",
    "outputId": "cde83986-e93c-4c64-d99e-c39f6c5e9b6f"
   },
   "outputs": [
    {
     "name": "stdout",
     "output_type": "stream",
     "text": [
      "_________________________________________________________________\n",
      "Layer (type)                 Output Shape              Param #   \n",
      "=================================================================\n",
      "embedding_1 (Embedding)      (None, 25, 42)            3612      \n",
      "_________________________________________________________________\n",
      "simple_rnn_1 (SimpleRNN)     (None, 256)               76544     \n",
      "_________________________________________________________________\n",
      "dense_1 (Dense)              (None, 86)                22102     \n",
      "=================================================================\n",
      "Total params: 102,258\n",
      "Trainable params: 102,258\n",
      "Non-trainable params: 0\n",
      "_________________________________________________________________\n"
     ]
    }
   ],
   "source": [
    "model.summary()"
   ]
  },
  {
   "cell_type": "code",
   "execution_count": 23,
   "metadata": {
    "colab": {},
    "colab_type": "code",
    "id": "N6v1Tf1KUFl8"
   },
   "outputs": [],
   "source": [
    "model.compile(loss='sparse_categorical_crossentropy', optimizer=Adam())"
   ]
  },
  {
   "cell_type": "code",
   "execution_count": 24,
   "metadata": {
    "colab": {
     "base_uri": "https://localhost:8080/",
     "height": 3669
    },
    "colab_type": "code",
    "id": "eEXLIDI0UFmA",
    "outputId": "4f18036e-d484-4568-9650-932e5e4a84f5",
    "scrolled": false
   },
   "outputs": [
    {
     "name": "stdout",
     "output_type": "stream",
     "text": [
      "Epoch 1/100\n",
      "24035/24035 [==============================] - 7s 305us/step - loss: 3.1870\n",
      "Epoch 2/100\n",
      "24035/24035 [==============================] - 5s 208us/step - loss: 2.7969\n",
      "Epoch 3/100\n",
      "24035/24035 [==============================] - 5s 217us/step - loss: 2.5241\n",
      "Epoch 4/100\n",
      "24035/24035 [==============================] - 5s 216us/step - loss: 2.3748\n",
      "Epoch 5/100\n",
      "24035/24035 [==============================] - 5s 201us/step - loss: 2.2634\n",
      "Epoch 6/100\n",
      "24035/24035 [==============================] - 5s 210us/step - loss: 2.1645\n",
      "Epoch 7/100\n",
      "24035/24035 [==============================] - 5s 217us/step - loss: 2.0818\n",
      "Epoch 8/100\n",
      "24035/24035 [==============================] - 5s 220us/step - loss: 2.0078\n",
      "Epoch 9/100\n",
      "24035/24035 [==============================] - 5s 214us/step - loss: 1.9404\n",
      "Epoch 10/100\n",
      "24035/24035 [==============================] - 5s 218us/step - loss: 1.8738\n",
      "Epoch 11/100\n",
      "24035/24035 [==============================] - 5s 215us/step - loss: 1.8165\n",
      "Epoch 12/100\n",
      "24035/24035 [==============================] - 5s 216us/step - loss: 1.7513\n",
      "Epoch 13/100\n",
      "24035/24035 [==============================] - 5s 216us/step - loss: 1.6926\n",
      "Epoch 14/100\n",
      "24035/24035 [==============================] - 5s 222us/step - loss: 1.6371\n",
      "Epoch 15/100\n",
      "24035/24035 [==============================] - 5s 220us/step - loss: 1.5783\n",
      "Epoch 16/100\n",
      "24035/24035 [==============================] - 5s 229us/step - loss: 1.5254\n",
      "Epoch 17/100\n",
      "24035/24035 [==============================] - 5s 217us/step - loss: 1.4707\n",
      "Epoch 18/100\n",
      "24035/24035 [==============================] - 5s 227us/step - loss: 1.4203\n",
      "Epoch 19/100\n",
      "24035/24035 [==============================] - 5s 221us/step - loss: 1.3641\n",
      "Epoch 20/100\n",
      "24035/24035 [==============================] - 5s 216us/step - loss: 1.3175\n",
      "Epoch 21/100\n",
      "24035/24035 [==============================] - 5s 219us/step - loss: 1.2687 0s - loss:\n",
      "Epoch 22/100\n",
      "24035/24035 [==============================] - 5s 226us/step - loss: 1.2218\n",
      "Epoch 23/100\n",
      "24035/24035 [==============================] - 5s 211us/step - loss: 1.1796\n",
      "Epoch 24/100\n",
      "24035/24035 [==============================] - 5s 210us/step - loss: 1.1361\n",
      "Epoch 25/100\n",
      "24035/24035 [==============================] - 5s 213us/step - loss: 1.0935\n",
      "Epoch 26/100\n",
      "24035/24035 [==============================] - 5s 219us/step - loss: 1.0593 0s - loss\n",
      "Epoch 27/100\n",
      "24035/24035 [==============================] - 5s 215us/step - loss: 1.0203\n",
      "Epoch 28/100\n",
      "24035/24035 [==============================] - 6s 230us/step - loss: 0.9900\n",
      "Epoch 29/100\n",
      "24035/24035 [==============================] - 6s 232us/step - loss: 0.9635\n",
      "Epoch 30/100\n",
      "24035/24035 [==============================] - 6s 233us/step - loss: 0.9254\n",
      "Epoch 31/100\n",
      "24035/24035 [==============================] - 5s 226us/step - loss: 0.8998\n",
      "Epoch 32/100\n",
      "24035/24035 [==============================] - 6s 233us/step - loss: 0.8759\n",
      "Epoch 33/100\n",
      "24035/24035 [==============================] - 5s 227us/step - loss: 0.8481\n",
      "Epoch 34/100\n",
      "24035/24035 [==============================] - ETA: 0s - loss: 0.834 - 5s 229us/step - loss: 0.8353\n",
      "Epoch 35/100\n",
      "24035/24035 [==============================] - 5s 228us/step - loss: 0.8059\n",
      "Epoch 36/100\n",
      "24035/24035 [==============================] - 5s 222us/step - loss: 0.7811\n",
      "Epoch 37/100\n",
      "24035/24035 [==============================] - 5s 222us/step - loss: 0.7573\n",
      "Epoch 38/100\n",
      "24035/24035 [==============================] - 5s 222us/step - loss: 0.7524\n",
      "Epoch 39/100\n",
      "24035/24035 [==============================] - 6s 230us/step - loss: 0.7263\n",
      "Epoch 40/100\n",
      "24035/24035 [==============================] - 6s 231us/step - loss: 0.7029\n",
      "Epoch 41/100\n",
      "24035/24035 [==============================] - 5s 225us/step - loss: 0.6837\n",
      "Epoch 42/100\n",
      "24035/24035 [==============================] - ETA: 0s - loss: 0.681 - 5s 211us/step - loss: 0.6838\n",
      "Epoch 43/100\n",
      "24035/24035 [==============================] - 5s 207us/step - loss: 0.6737\n",
      "Epoch 44/100\n",
      "24035/24035 [==============================] - 6s 238us/step - loss: 0.6457\n",
      "Epoch 45/100\n",
      "24035/24035 [==============================] - 5s 227us/step - loss: 0.6529\n",
      "Epoch 46/100\n",
      "24035/24035 [==============================] - 6s 239us/step - loss: 0.6205\n",
      "Epoch 47/100\n",
      "24035/24035 [==============================] - 6s 233us/step - loss: 0.6114\n",
      "Epoch 48/100\n",
      "24035/24035 [==============================] - 6s 234us/step - loss: 0.6102\n",
      "Epoch 49/100\n",
      "24035/24035 [==============================] - 6s 229us/step - loss: 0.5702\n",
      "Epoch 50/100\n",
      "24035/24035 [==============================] - 5s 229us/step - loss: 0.5760\n",
      "Epoch 51/100\n",
      "24035/24035 [==============================] - 6s 229us/step - loss: 0.5788\n",
      "Epoch 52/100\n",
      "24035/24035 [==============================] - 5s 224us/step - loss: 0.5510\n",
      "Epoch 53/100\n",
      "24035/24035 [==============================] - 5s 216us/step - loss: 0.5391\n",
      "Epoch 54/100\n",
      "24035/24035 [==============================] - 5s 227us/step - loss: 0.5475\n",
      "Epoch 55/100\n",
      "24035/24035 [==============================] - 5s 227us/step - loss: 0.5456\n",
      "Epoch 56/100\n",
      "24035/24035 [==============================] - 5s 229us/step - loss: 0.5375\n",
      "Epoch 57/100\n",
      "24035/24035 [==============================] - 5s 209us/step - loss: 0.5270\n",
      "Epoch 58/100\n",
      "24035/24035 [==============================] - 5s 224us/step - loss: 0.5425\n",
      "Epoch 59/100\n",
      "24035/24035 [==============================] - 5s 224us/step - loss: 0.5142\n",
      "Epoch 60/100\n",
      "24035/24035 [==============================] - 5s 223us/step - loss: 0.5080\n",
      "Epoch 61/100\n",
      "24035/24035 [==============================] - 5s 227us/step - loss: 0.5165\n",
      "Epoch 62/100\n",
      "24035/24035 [==============================] - 5s 223us/step - loss: 0.5056\n",
      "Epoch 63/100\n",
      "24035/24035 [==============================] - 5s 226us/step - loss: 0.4865\n",
      "Epoch 64/100\n",
      "24035/24035 [==============================] - 5s 216us/step - loss: 0.4905\n",
      "Epoch 65/100\n",
      "24035/24035 [==============================] - 5s 229us/step - loss: 0.4628\n",
      "Epoch 66/100\n",
      "24035/24035 [==============================] - 6s 234us/step - loss: 0.4780\n",
      "Epoch 67/100\n",
      "24035/24035 [==============================] - 5s 222us/step - loss: 0.4603\n",
      "Epoch 68/100\n",
      "24035/24035 [==============================] - 6s 235us/step - loss: 0.4532\n",
      "Epoch 69/100\n",
      "24035/24035 [==============================] - 6s 238us/step - loss: 0.4649\n",
      "Epoch 70/100\n",
      "24035/24035 [==============================] - 6s 259us/step - loss: 0.4617\n",
      "Epoch 71/100\n",
      "24035/24035 [==============================] - 6s 231us/step - loss: 0.4954\n",
      "Epoch 72/100\n",
      "24035/24035 [==============================] - 5s 208us/step - loss: 0.4555\n",
      "Epoch 73/100\n",
      "24035/24035 [==============================] - 5s 222us/step - loss: 0.4675\n",
      "Epoch 74/100\n",
      "24035/24035 [==============================] - 5s 225us/step - loss: 0.4574\n",
      "Epoch 75/100\n",
      "24035/24035 [==============================] - 5s 216us/step - loss: 0.4470\n",
      "Epoch 76/100\n",
      "24035/24035 [==============================] - 6s 242us/step - loss: 0.4698\n",
      "Epoch 77/100\n",
      "24035/24035 [==============================] - 5s 221us/step - loss: 0.4516\n",
      "Epoch 78/100\n",
      "24035/24035 [==============================] - 6s 234us/step - loss: 0.4387\n",
      "Epoch 79/100\n",
      "24035/24035 [==============================] - 5s 227us/step - loss: 0.4216\n",
      "Epoch 80/100\n",
      "24035/24035 [==============================] - 6s 230us/step - loss: 0.4205\n",
      "Epoch 81/100\n",
      "24035/24035 [==============================] - 6s 239us/step - loss: 0.4359 0s - loss: 0.4\n",
      "Epoch 82/100\n",
      "24035/24035 [==============================] - 6s 234us/step - loss: 0.3975\n",
      "Epoch 83/100\n",
      "24035/24035 [==============================] - 5s 222us/step - loss: 0.4273 0\n",
      "Epoch 84/100\n",
      "24035/24035 [==============================] - 5s 214us/step - loss: 0.4498\n",
      "Epoch 85/100\n",
      "24035/24035 [==============================] - 6s 231us/step - loss: 0.4271\n",
      "Epoch 86/100\n",
      "24035/24035 [==============================] - 5s 218us/step - loss: 0.4451\n",
      "Epoch 87/100\n",
      "24035/24035 [==============================] - 5s 221us/step - loss: 0.4043\n",
      "Epoch 88/100\n",
      "24035/24035 [==============================] - 6s 229us/step - loss: 0.3973\n",
      "Epoch 89/100\n",
      "24035/24035 [==============================] - 5s 226us/step - loss: 0.4246\n",
      "Epoch 90/100\n",
      "24035/24035 [==============================] - 6s 234us/step - loss: 0.4107\n",
      "Epoch 91/100\n",
      "24035/24035 [==============================] - 5s 227us/step - loss: 0.4245\n",
      "Epoch 92/100\n",
      "24035/24035 [==============================] - 6s 231us/step - loss: 0.4180\n",
      "Epoch 93/100\n",
      "24035/24035 [==============================] - 6s 244us/step - loss: 0.3818\n",
      "Epoch 94/100\n",
      "24035/24035 [==============================] - 5s 226us/step - loss: 0.3736 0s - loss: 0\n",
      "Epoch 95/100\n",
      "24035/24035 [==============================] - 6s 238us/step - loss: 0.4054\n",
      "Epoch 96/100\n",
      "24035/24035 [==============================] - 6s 236us/step - loss: 0.4100\n",
      "Epoch 97/100\n",
      "24035/24035 [==============================] - 6s 240us/step - loss: 0.4101\n",
      "Epoch 98/100\n",
      "24035/24035 [==============================] - 5s 226us/step - loss: 0.3981\n",
      "Epoch 99/100\n",
      "24035/24035 [==============================] - 5s 227us/step - loss: 0.3620\n",
      "Epoch 100/100\n",
      "24035/24035 [==============================] - 6s 229us/step - loss: 0.3569\n"
     ]
    },
    {
     "data": {
      "text/plain": [
       "<keras.callbacks.History at 0x1c668cfd198>"
      ]
     },
     "execution_count": 24,
     "metadata": {},
     "output_type": "execute_result"
    }
   ],
   "source": [
    "model.fit(np.stack(xin, 1), y, batch_size=128, epochs=100)"
   ]
  },
  {
   "cell_type": "code",
   "execution_count": 25,
   "metadata": {
    "colab": {},
    "colab_type": "code",
    "id": "v-R23uG0UFmH"
   },
   "outputs": [],
   "source": [
    "model.save_weights('simpleRNN_3pred.h5')"
   ]
  },
  {
   "cell_type": "code",
   "execution_count": 26,
   "metadata": {
    "colab": {},
    "colab_type": "code",
    "id": "toVwXXSGUFmM"
   },
   "outputs": [],
   "source": [
    "model.load_weights('simpleRNN_3pred.h5')"
   ]
  },
  {
   "cell_type": "code",
   "execution_count": 27,
   "metadata": {
    "colab": {},
    "colab_type": "code",
    "id": "OSkh9tyJUFmO"
   },
   "outputs": [],
   "source": [
    "model.save_weights('simpleRNN_7pred.h5')"
   ]
  },
  {
   "cell_type": "code",
   "execution_count": 28,
   "metadata": {
    "colab": {},
    "colab_type": "code",
    "id": "tKSwiEMwUFmT"
   },
   "outputs": [],
   "source": [
    "model.load_weights('simpleRNN_7pred.h5')"
   ]
  },
  {
   "cell_type": "markdown",
   "metadata": {
    "colab_type": "text",
    "id": "RPvWqnVeUFmc"
   },
   "source": [
    "1. First convert the input to indices\n",
    "2. Then expand the dimension to match the model's output format\n",
    "3. Predict the 8th character using the input\n",
    "4. As we are using softmax activation in the last layer of the model, we get the probability of every 86 characters in our vocabulary. So the character with the maximum probability will be the 8th predicted character by the model"
   ]
  },
  {
   "cell_type": "code",
   "execution_count": 29,
   "metadata": {
    "colab": {},
    "colab_type": "code",
    "id": "eyqDWzvcUFmc"
   },
   "outputs": [],
   "source": [
    "def predict_next_char(inp):\n",
    "    c=100\n",
    "    st=''+inp\n",
    "    while(c):\n",
    "      c=c-1\n",
    "      #print(inp)\n",
    "      index = [char_to_index[i] for i in inp]\n",
    "      arr = np.expand_dims(np.array(index), axis=0)\n",
    "      prediction = model.predict(arr)\n",
    "      prediction = index_to_char[np.argmax(prediction)]\n",
    "      #print(prediction)\n",
    "      st=st+prediction\n",
    "      if prediction=='.':\n",
    "        return st \n",
    "      inp=inp[1:]\n",
    "      inp=inp+prediction\n",
    "    return st "
   ]
  },
  {
   "cell_type": "markdown",
   "metadata": {
    "colab_type": "text",
    "id": "kKykHkXuUFmf"
   },
   "source": [
    "In this example, prediction is being done for the 8th character(pred_num = 7)"
   ]
  },
  {
   "cell_type": "code",
   "execution_count": 30,
   "metadata": {
    "colab": {
     "base_uri": "https://localhost:8080/",
     "height": 35
    },
    "colab_type": "code",
    "id": "LNaUdOkqUFmh",
    "outputId": "e3087da4-35b5-4535-9181-d62405ebd267"
   },
   "outputs": [
    {
     "data": {
      "text/plain": [
       "'SUPPOSING that Truth is as look passion--mamake of proving and peorled\\nwhich the lofare to smentange, and\\nof darive\\n\"uspernat'"
      ]
     },
     "execution_count": 30,
     "metadata": {},
     "output_type": "execute_result"
    }
   ],
   "source": [
    "predict_next_char('SUPPOSING that Truth is a')"
   ]
  },
  {
   "cell_type": "code",
   "execution_count": 0,
   "metadata": {
    "colab": {},
    "colab_type": "code",
    "id": "Tire5k6LUFoh"
   },
   "outputs": [],
   "source": []
  }
 ],
 "metadata": {
  "accelerator": "GPU",
  "colab": {
   "name": "Predicting Next character.ipynb",
   "provenance": [],
   "version": "0.3.2"
  },
  "kernelspec": {
   "display_name": "Python 3",
   "language": "python",
   "name": "python3"
  },
  "language_info": {
   "codemirror_mode": {
    "name": "ipython",
    "version": 3
   },
   "file_extension": ".py",
   "mimetype": "text/x-python",
   "name": "python",
   "nbconvert_exporter": "python",
   "pygments_lexer": "ipython3",
   "version": "3.6.5"
  }
 },
 "nbformat": 4,
 "nbformat_minor": 1
}
